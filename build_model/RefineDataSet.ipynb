{
 "cells": [
  {
   "cell_type": "code",
   "execution_count": 2,
   "metadata": {},
   "outputs": [],
   "source": [
    "import pandas as pd\n",
    "from random import shuffle"
   ]
  },
  {
   "cell_type": "code",
   "execution_count": 3,
   "metadata": {},
   "outputs": [],
   "source": [
    "csv = pd.read_csv('./train.csv')"
   ]
  },
  {
   "cell_type": "markdown",
   "metadata": {},
   "source": [
    "# Remove columns and set toxicity to 1 or 0"
   ]
  },
  {
   "cell_type": "code",
   "execution_count": 4,
   "metadata": {},
   "outputs": [],
   "source": [
    "columns_to_be_removed = [e for e in list(csv) if e != 'target' and e!= 'comment_text']"
   ]
  },
  {
   "cell_type": "code",
   "execution_count": 5,
   "metadata": {},
   "outputs": [
    {
     "name": "stderr",
     "output_type": "stream",
     "text": [
      "/home/tony/anaconda3/envs/ml/lib/python3.7/site-packages/ipykernel_launcher.py:6: FutureWarning: set_value is deprecated and will be removed in a future release. Please use .at[] or .iat[] accessors instead\n",
      "  \n",
      "/home/tony/anaconda3/envs/ml/lib/python3.7/site-packages/ipykernel_launcher.py:4: FutureWarning: set_value is deprecated and will be removed in a future release. Please use .at[] or .iat[] accessors instead\n",
      "  after removing the cwd from sys.path.\n"
     ]
    }
   ],
   "source": [
    "i = 0\n",
    "for e in csv['target']:\n",
    "    if e >= 0.5:\n",
    "        csv.set_value(i, 'target', 1)\n",
    "    else:\n",
    "        csv.set_value(i, 'target', 0)\n",
    "    i += 1"
   ]
  },
  {
   "cell_type": "code",
   "execution_count": 6,
   "metadata": {},
   "outputs": [],
   "source": [
    "csv.to_csv('./training_refined.csv')"
   ]
  },
  {
   "cell_type": "code",
   "execution_count": 7,
   "metadata": {},
   "outputs": [
    {
     "name": "stdout",
     "output_type": "stream",
     "text": [
      "144334\n"
     ]
    }
   ],
   "source": [
    "num_toxic_comments = 0\n",
    "for e in csv['target']:\n",
    "    if e == 1.0:\n",
    "        num_toxic_comments += 1\n",
    "print(num_toxic_comments)"
   ]
  },
  {
   "cell_type": "code",
   "execution_count": 8,
   "metadata": {},
   "outputs": [],
   "source": [
    "toxic_comments = []\n",
    "for i in range(len(csv['target'])):\n",
    "    if csv['target'][i] == 1.0:\n",
    "            toxic_comments.append((1.0, csv['comment_text'][i]))"
   ]
  },
  {
   "cell_type": "code",
   "execution_count": 9,
   "metadata": {},
   "outputs": [],
   "source": [
    "examples = []\n",
    "\n",
    "# Adding toxic comments\n",
    "for e in toxic_comments:\n",
    "    examples.append(e)\n",
    "    \n",
    "# Adding non-toxic comments\n",
    "increment = 0\n",
    "for i in range(144334):\n",
    "    while csv['target'][i + increment] != 0.0:\n",
    "        increment += 1\n",
    "    \n",
    "    examples.append((0.0, csv['comment_text'][i + increment]))\n",
    "\n",
    "# Shuffling\n",
    "shuffle(examples)\n",
    "\n",
    "# Setting up DataFrame\n",
    "df = pd.DataFrame(columns=['target', 'comment_text'])\n",
    "for e in examples:\n",
    "    df.append({'target': e[0], 'comment_text': e[1]}, ignore_index=True)"
   ]
  },
  {
   "cell_type": "code",
   "execution_count": 10,
   "metadata": {},
   "outputs": [],
   "source": [
    "df.to_csv('./training_equal.csv', index=False)"
   ]
  },
  {
   "cell_type": "code",
   "execution_count": null,
   "metadata": {},
   "outputs": [],
   "source": []
  }
 ],
 "metadata": {
  "kernelspec": {
   "display_name": "Python 3",
   "language": "python",
   "name": "python3"
  },
  "language_info": {
   "codemirror_mode": {
    "name": "ipython",
    "version": 3
   },
   "file_extension": ".py",
   "mimetype": "text/x-python",
   "name": "python",
   "nbconvert_exporter": "python",
   "pygments_lexer": "ipython3",
   "version": "3.7.5"
  }
 },
 "nbformat": 4,
 "nbformat_minor": 4
}
